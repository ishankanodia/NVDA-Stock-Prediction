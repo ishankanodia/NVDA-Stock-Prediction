{
 "cells": [
  {
   "cell_type": "code",
   "execution_count": 2,
   "id": "7a2028fa",
   "metadata": {},
   "outputs": [],
   "source": [
    "import numpy as np\n",
    "import pandas as pd\n",
    "import matplotlib.pyplot as plt\n",
    "import seaborn as sns\n",
    "import tensorflow as tf"
   ]
  },
  {
   "cell_type": "code",
   "execution_count": 3,
   "id": "cc14c2fe",
   "metadata": {},
   "outputs": [
    {
     "name": "stderr",
     "output_type": "stream",
     "text": [
      "\r",
      "[*********************100%***********************]  1 of 1 completed"
     ]
    },
    {
     "name": "stdout",
     "output_type": "stream",
     "text": [
      "                  Open        High         Low       Close   Adj Close  \\\n",
      "Date                                                                     \n",
      "2019-01-02    3.266000    3.462000    3.251250    3.405500    3.378322   \n",
      "2019-01-03    3.344750    3.379000    3.192250    3.199750    3.174214   \n",
      "2019-01-04    3.273500    3.443250    3.242500    3.404750    3.377579   \n",
      "2019-01-07    3.462500    3.622250    3.410750    3.585000    3.556391   \n",
      "2019-01-08    3.667250    3.669500    3.422500    3.495750    3.467852   \n",
      "...                ...         ...         ...         ...         ...   \n",
      "2024-09-23  116.550003  116.989998  114.860001  116.260002  116.260002   \n",
      "2024-09-24  116.519997  121.800003  115.379997  120.870003  120.870003   \n",
      "2024-09-25  122.019997  124.940002  121.610001  123.510002  123.510002   \n",
      "2024-09-26  126.800003  127.669998  121.800003  124.040001  124.040001   \n",
      "2024-09-27  123.970001  124.029999  119.260002  121.400002  121.400002   \n",
      "\n",
      "               Volume  \n",
      "Date                   \n",
      "2019-01-02  508752000  \n",
      "2019-01-03  705552000  \n",
      "2019-01-04  585620000  \n",
      "2019-01-07  709160000  \n",
      "2019-01-08  786016000  \n",
      "...               ...  \n",
      "2024-09-23  206228500  \n",
      "2024-09-24  354966800  \n",
      "2024-09-25  284692900  \n",
      "2024-09-26  302582900  \n",
      "2024-09-27  271009200  \n",
      "\n",
      "[1445 rows x 6 columns]\n"
     ]
    },
    {
     "name": "stderr",
     "output_type": "stream",
     "text": [
      "\n"
     ]
    }
   ],
   "source": [
    "import yfinance as yf\n",
    "data = yf.download('NVDA', start='2019-01-01', end='2024-9-30')\n",
    "print(data)\n",
    "df=pd.DataFrame(data)\n",
    "df.shape\n",
    "df.to_csv('nvidia.csv')"
   ]
  },
  {
   "cell_type": "code",
   "execution_count": 4,
   "id": "649ef5cf",
   "metadata": {},
   "outputs": [],
   "source": [
    "dff=pd.read_csv('nvidia.csv')"
   ]
  },
  {
   "cell_type": "code",
   "execution_count": 5,
   "id": "66f5566e",
   "metadata": {},
   "outputs": [
    {
     "data": {
      "text/html": [
       "<div>\n",
       "<style scoped>\n",
       "    .dataframe tbody tr th:only-of-type {\n",
       "        vertical-align: middle;\n",
       "    }\n",
       "\n",
       "    .dataframe tbody tr th {\n",
       "        vertical-align: top;\n",
       "    }\n",
       "\n",
       "    .dataframe thead th {\n",
       "        text-align: right;\n",
       "    }\n",
       "</style>\n",
       "<table border=\"1\" class=\"dataframe\">\n",
       "  <thead>\n",
       "    <tr style=\"text-align: right;\">\n",
       "      <th></th>\n",
       "      <th>Date</th>\n",
       "      <th>Open</th>\n",
       "      <th>High</th>\n",
       "      <th>Low</th>\n",
       "      <th>Close</th>\n",
       "      <th>Adj Close</th>\n",
       "      <th>Volume</th>\n",
       "    </tr>\n",
       "  </thead>\n",
       "  <tbody>\n",
       "    <tr>\n",
       "      <th>0</th>\n",
       "      <td>2019-01-02</td>\n",
       "      <td>3.266000</td>\n",
       "      <td>3.462000</td>\n",
       "      <td>3.251250</td>\n",
       "      <td>3.405500</td>\n",
       "      <td>3.378322</td>\n",
       "      <td>508752000</td>\n",
       "    </tr>\n",
       "    <tr>\n",
       "      <th>1</th>\n",
       "      <td>2019-01-03</td>\n",
       "      <td>3.344750</td>\n",
       "      <td>3.379000</td>\n",
       "      <td>3.192250</td>\n",
       "      <td>3.199750</td>\n",
       "      <td>3.174214</td>\n",
       "      <td>705552000</td>\n",
       "    </tr>\n",
       "    <tr>\n",
       "      <th>2</th>\n",
       "      <td>2019-01-04</td>\n",
       "      <td>3.273500</td>\n",
       "      <td>3.443250</td>\n",
       "      <td>3.242500</td>\n",
       "      <td>3.404750</td>\n",
       "      <td>3.377579</td>\n",
       "      <td>585620000</td>\n",
       "    </tr>\n",
       "    <tr>\n",
       "      <th>3</th>\n",
       "      <td>2019-01-07</td>\n",
       "      <td>3.462500</td>\n",
       "      <td>3.622250</td>\n",
       "      <td>3.410750</td>\n",
       "      <td>3.585000</td>\n",
       "      <td>3.556391</td>\n",
       "      <td>709160000</td>\n",
       "    </tr>\n",
       "    <tr>\n",
       "      <th>4</th>\n",
       "      <td>2019-01-08</td>\n",
       "      <td>3.667250</td>\n",
       "      <td>3.669500</td>\n",
       "      <td>3.422500</td>\n",
       "      <td>3.495750</td>\n",
       "      <td>3.467852</td>\n",
       "      <td>786016000</td>\n",
       "    </tr>\n",
       "    <tr>\n",
       "      <th>...</th>\n",
       "      <td>...</td>\n",
       "      <td>...</td>\n",
       "      <td>...</td>\n",
       "      <td>...</td>\n",
       "      <td>...</td>\n",
       "      <td>...</td>\n",
       "      <td>...</td>\n",
       "    </tr>\n",
       "    <tr>\n",
       "      <th>1440</th>\n",
       "      <td>2024-09-23</td>\n",
       "      <td>116.550003</td>\n",
       "      <td>116.989998</td>\n",
       "      <td>114.860001</td>\n",
       "      <td>116.260002</td>\n",
       "      <td>116.260002</td>\n",
       "      <td>206228500</td>\n",
       "    </tr>\n",
       "    <tr>\n",
       "      <th>1441</th>\n",
       "      <td>2024-09-24</td>\n",
       "      <td>116.519997</td>\n",
       "      <td>121.800003</td>\n",
       "      <td>115.379997</td>\n",
       "      <td>120.870003</td>\n",
       "      <td>120.870003</td>\n",
       "      <td>354966800</td>\n",
       "    </tr>\n",
       "    <tr>\n",
       "      <th>1442</th>\n",
       "      <td>2024-09-25</td>\n",
       "      <td>122.019997</td>\n",
       "      <td>124.940002</td>\n",
       "      <td>121.610001</td>\n",
       "      <td>123.510002</td>\n",
       "      <td>123.510002</td>\n",
       "      <td>284692900</td>\n",
       "    </tr>\n",
       "    <tr>\n",
       "      <th>1443</th>\n",
       "      <td>2024-09-26</td>\n",
       "      <td>126.800003</td>\n",
       "      <td>127.669998</td>\n",
       "      <td>121.800003</td>\n",
       "      <td>124.040001</td>\n",
       "      <td>124.040001</td>\n",
       "      <td>302582900</td>\n",
       "    </tr>\n",
       "    <tr>\n",
       "      <th>1444</th>\n",
       "      <td>2024-09-27</td>\n",
       "      <td>123.970001</td>\n",
       "      <td>124.029999</td>\n",
       "      <td>119.260002</td>\n",
       "      <td>121.400002</td>\n",
       "      <td>121.400002</td>\n",
       "      <td>271009200</td>\n",
       "    </tr>\n",
       "  </tbody>\n",
       "</table>\n",
       "<p>1445 rows × 7 columns</p>\n",
       "</div>"
      ],
      "text/plain": [
       "            Date        Open        High         Low       Close   Adj Close  \\\n",
       "0     2019-01-02    3.266000    3.462000    3.251250    3.405500    3.378322   \n",
       "1     2019-01-03    3.344750    3.379000    3.192250    3.199750    3.174214   \n",
       "2     2019-01-04    3.273500    3.443250    3.242500    3.404750    3.377579   \n",
       "3     2019-01-07    3.462500    3.622250    3.410750    3.585000    3.556391   \n",
       "4     2019-01-08    3.667250    3.669500    3.422500    3.495750    3.467852   \n",
       "...          ...         ...         ...         ...         ...         ...   \n",
       "1440  2024-09-23  116.550003  116.989998  114.860001  116.260002  116.260002   \n",
       "1441  2024-09-24  116.519997  121.800003  115.379997  120.870003  120.870003   \n",
       "1442  2024-09-25  122.019997  124.940002  121.610001  123.510002  123.510002   \n",
       "1443  2024-09-26  126.800003  127.669998  121.800003  124.040001  124.040001   \n",
       "1444  2024-09-27  123.970001  124.029999  119.260002  121.400002  121.400002   \n",
       "\n",
       "         Volume  \n",
       "0     508752000  \n",
       "1     705552000  \n",
       "2     585620000  \n",
       "3     709160000  \n",
       "4     786016000  \n",
       "...         ...  \n",
       "1440  206228500  \n",
       "1441  354966800  \n",
       "1442  284692900  \n",
       "1443  302582900  \n",
       "1444  271009200  \n",
       "\n",
       "[1445 rows x 7 columns]"
      ]
     },
     "execution_count": 5,
     "metadata": {},
     "output_type": "execute_result"
    }
   ],
   "source": [
    "dff"
   ]
  },
  {
   "cell_type": "code",
   "execution_count": 6,
   "id": "6b52fbed",
   "metadata": {},
   "outputs": [
    {
     "data": {
      "text/plain": [
       "0    3.25125\n",
       "1    3.19225\n",
       "2    3.24250\n",
       "3    3.41075\n",
       "4    3.42250\n",
       "Name: Low, dtype: float64"
      ]
     },
     "execution_count": 6,
     "metadata": {},
     "output_type": "execute_result"
    }
   ],
   "source": [
    "# Taking only close values\n",
    "df=dff.iloc[:,3]\n",
    "df.head()"
   ]
  },
  {
   "cell_type": "code",
   "execution_count": 7,
   "id": "10c2d0c9",
   "metadata": {},
   "outputs": [
    {
     "data": {
      "text/plain": [
       "(1445,)"
      ]
     },
     "execution_count": 7,
     "metadata": {},
     "output_type": "execute_result"
    }
   ],
   "source": [
    "df.shape"
   ]
  },
  {
   "cell_type": "code",
   "execution_count": 8,
   "id": "f858d4e7",
   "metadata": {},
   "outputs": [
    {
     "data": {
      "text/plain": [
       "Text(0.5, 1.0, 'NVDA stock prices')"
      ]
     },
     "execution_count": 8,
     "metadata": {},
     "output_type": "execute_result"
    },
    {
     "data": {
      "image/png": "[encoded data removed]",
      "text/plain": [
       "<Figure size 640x480 with 1 Axes>"
      ]
     },
     "metadata": {},
     "output_type": "display_data"
    }
   ],
   "source": [
    "plt.plot(df)\n",
    "plt.xlabel('Day')\n",
    "plt.ylabel('Price')\n",
    "plt.title('NVDA stock prices')"
   ]
  },
  {
   "cell_type": "code",
   "execution_count": 9,
   "id": "8073133e",
   "metadata": {},
   "outputs": [
    {
     "data": {
      "text/plain": [
       "array([[4.56558410e-04],\n",
       "       [0.00000000e+00],\n",
       "       [3.88848789e-04],\n",
       "       ...,\n",
       "       [9.16349254e-01],\n",
       "       [9.17819545e-01],\n",
       "       [8.98164317e-01]])"
      ]
     },
     "execution_count": 9,
     "metadata": {},
     "output_type": "execute_result"
    }
   ],
   "source": [
    "from sklearn.preprocessing import MinMaxScaler\n",
    "scaler=MinMaxScaler()\n",
    "df=scaler.fit_transform(np.array(df).reshape(-1, 1))\n",
    "df"
   ]
  },
  {
   "cell_type": "code",
   "execution_count": 10,
   "id": "faf105f8",
   "metadata": {},
   "outputs": [
    {
     "name": "stdout",
     "output_type": "stream",
     "text": [
      "            0\n",
      "0    0.000457\n",
      "1    0.000000\n",
      "2    0.000389\n",
      "3    0.001691\n",
      "4    0.001782\n",
      "..        ...\n",
      "995  0.112350\n",
      "996  0.110098\n",
      "997  0.104527\n",
      "998  0.102283\n",
      "999  0.100232\n",
      "\n",
      "[1000 rows x 1 columns]\n",
      "             0\n",
      "1000  0.097965\n",
      "1001  0.099899\n",
      "1002  0.090459\n",
      "1003  0.090466\n",
      "1004  0.084067\n",
      "...        ...\n",
      "1440  0.864116\n",
      "1441  0.868140\n",
      "1442  0.916349\n",
      "1443  0.917820\n",
      "1444  0.898164\n",
      "\n",
      "[445 rows x 1 columns]\n"
     ]
    }
   ],
   "source": [
    "## We will take train entries till 1000(total 1445 data points)\n",
    "df=pd.DataFrame(df)\n",
    "train=df.iloc[:1000,:]\n",
    "print(train)\n",
    "test=df.iloc[1000:,:]\n",
    "print(test)"
   ]
  },
  {
   "cell_type": "code",
   "execution_count": 11,
   "id": "944b7b83",
   "metadata": {},
   "outputs": [],
   "source": [
    "def create_dataset(dataset,timestep=1):\n",
    "    x=[]\n",
    "    y=[]\n",
    "    for i in range(len(dataset)-timestep):\n",
    "        x.append(dataset.iloc[i:i+timestep,0])\n",
    "        y.append(dataset.iloc[i+timestep,:])\n",
    "    return np.array(x),np.array(y)"
   ]
  },
  {
   "cell_type": "code",
   "execution_count": 12,
   "id": "ca29a44a",
   "metadata": {},
   "outputs": [
    {
     "name": "stdout",
     "output_type": "stream",
     "text": [
      "size of x_train=(900, 100)\n",
      "size of x_test=(345, 100)\n",
      "size of y_train=(900, 1)\n",
      "size of y_test=(345, 1)\n"
     ]
    }
   ],
   "source": [
    "x_train,y_train=create_dataset(train,100)\n",
    "x_test,y_test=create_dataset(test,100)\n",
    "print(f'size of x_train={x_train.shape}\\nsize of x_test={x_test.shape}\\nsize of y_train={y_train.shape}\\nsize of y_test={y_test.shape}')"
   ]
  },
  {
   "cell_type": "markdown",
   "id": "59ba223e",
   "metadata": {},
   "source": [
    "The code snippet reshapes the input data X_train and X_test to a 3D shape suitable for training an LSTM (Long Short-Term Memory) network. LSTM models require input data to have a specific shape: [samples, time steps, features].\n",
    "\n",
    "Here's a breakdown of what each dimension represents:\n",
    "\n",
    "Samples (X_train.shape[0], X_test.shape[0]):\n",
    "\n",
    "This is the number of data points or sequences in your dataset. Each data point is considered a sample.\n",
    "Time Steps (X_train.shape[1], X_test.shape[1]):\n",
    "\n",
    "This represents the number of time steps in each sample. For each sequence, this is how many time points you want the LSTM to look at.\n",
    "Features (1):\n",
    "\n",
    "This is the number of features (variables) at each time step. Since you are reshaping with 1 here, it implies you have a single feature (or dimension) per time step. If you had more features (e.g., multiple measurements at each time step), you would adjust this accordingly."
   ]
  },
  {
   "cell_type": "code",
   "execution_count": 13,
   "id": "0049dfa1",
   "metadata": {},
   "outputs": [],
   "source": [
    "x_train=x_train.reshape(x_train.shape[0],x_train.shape[1],1)\n",
    "x_test=x_test.reshape(x_test.shape[0],x_test.shape[1],1)"
   ]
  },
  {
   "cell_type": "code",
   "execution_count": 14,
   "id": "7e4bcbf0",
   "metadata": {},
   "outputs": [],
   "source": [
    "from tensorflow.keras.models import Sequential\n",
    "from tensorflow.keras.layers import Dense\n",
    "from tensorflow.keras.layers import LSTM"
   ]
  },
  {
   "cell_type": "code",
   "execution_count": 15,
   "id": "e28c8638",
   "metadata": {},
   "outputs": [
    {
     "name": "stderr",
     "output_type": "stream",
     "text": [
      "/Users/ishankanodia/anaconda3/lib/python3.11/site-packages/keras/src/layers/rnn/rnn.py:204: UserWarning: Do not pass an `input_shape`/`input_dim` argument to a layer. When using Sequential models, prefer using an `Input(shape)` object as the first layer in the model instead.\n",
      "  super().__init__(**kwargs)\n"
     ]
    }
   ],
   "source": [
    "model=Sequential()\n",
    "model.add(LSTM(50,return_sequences=True,input_shape=(100,1)))\n",
    "\n",
    "# return_sequences=True: \n",
    "# This ensures that the LSTM layer returns the full sequence of outputs \n",
    "# for each time step, rather than just the output at the final time step. \n",
    "\n",
    "model.add(LSTM(50,return_sequences=True))\n",
    "model.add(LSTM(50))\n",
    "model.add(Dense(1))\n",
    "model.compile(loss='mean_squared_error',optimizer='adam')"
   ]
  },
  {
   "cell_type": "markdown",
   "id": "2d0d4ebb",
   "metadata": {},
   "source": [
    "###### return_sequences=True\n",
    "This ensures that the LSTM layer returns the full sequence of outputs for each time step, rather than just the output at the final time step. This is useful when you are stacking multiple LSTM layers."
   ]
  },
  {
   "cell_type": "code",
   "execution_count": 16,
   "id": "1de5d4d2",
   "metadata": {},
   "outputs": [
    {
     "data": {
      "text/html": [
       "<pre style=\"white-space:pre;overflow-x:auto;line-height:normal;font-family:Menlo,'DejaVu Sans Mono',consolas,'Courier New',monospace\"><span style=\"font-weight: bold\">Model: \"sequential\"</span>\n",
       "</pre>\n"
      ],
      "text/plain": [
       "\u001b[1mModel: \"sequential\"\u001b[0m\n"
      ]
     },
     "metadata": {},
     "output_type": "display_data"
    },
    {
     "data": {
      "text/html": [
       "<pre style=\"white-space:pre;overflow-x:auto;line-height:normal;font-family:Menlo,'DejaVu Sans Mono',consolas,'Courier New',monospace\">┏━━━━━━━━━━━━━━━━━━━━━━━━━━━━━━━━━┳━━━━━━━━━━━━━━━━━━━━━━━━┳━━━━━━━━━━━━━━━┓\n",
       "┃<span style=\"font-weight: bold\"> Layer (type)                    </span>┃<span style=\"font-weight: bold\"> Output Shape           </span>┃<span style=\"font-weight: bold\">       Param # </span>┃\n",
       "┡━━━━━━━━━━━━━━━━━━━━━━━━━━━━━━━━━╇━━━━━━━━━━━━━━━━━━━━━━━━╇━━━━━━━━━━━━━━━┩\n",
       "│ lstm (<span style=\"color: #0087ff; text-decoration-color: #0087ff\">LSTM</span>)                     │ (<span style=\"color: #00d7ff; text-decoration-color: #00d7ff\">None</span>, <span style=\"color: #00af00; text-decoration-color: #00af00\">100</span>, <span style=\"color: #00af00; text-decoration-color: #00af00\">50</span>)        │        <span style=\"color: #00af00; text-decoration-color: #00af00\">10,400</span> │\n",
       "├─────────────────────────────────┼────────────────────────┼───────────────┤\n",
       "│ lstm_1 (<span style=\"color: #0087ff; text-decoration-color: #0087ff\">LSTM</span>)                   │ (<span style=\"color: #00d7ff; text-decoration-color: #00d7ff\">None</span>, <span style=\"color: #00af00; text-decoration-color: #00af00\">100</span>, <span style=\"color: #00af00; text-decoration-color: #00af00\">50</span>)        │        <span style=\"color: #00af00; text-decoration-color: #00af00\">20,200</span> │\n",
       "├─────────────────────────────────┼────────────────────────┼───────────────┤\n",
       "│ lstm_2 (<span style=\"color: #0087ff; text-decoration-color: #0087ff\">LSTM</span>)                   │ (<span style=\"color: #00d7ff; text-decoration-color: #00d7ff\">None</span>, <span style=\"color: #00af00; text-decoration-color: #00af00\">50</span>)             │        <span style=\"color: #00af00; text-decoration-color: #00af00\">20,200</span> │\n",
       "├─────────────────────────────────┼────────────────────────┼───────────────┤\n",
       "│ dense (<span style=\"color: #0087ff; text-decoration-color: #0087ff\">Dense</span>)                   │ (<span style=\"color: #00d7ff; text-decoration-color: #00d7ff\">None</span>, <span style=\"color: #00af00; text-decoration-color: #00af00\">1</span>)              │            <span style=\"color: #00af00; text-decoration-color: #00af00\">51</span> │\n",
       "└─────────────────────────────────┴────────────────────────┴───────────────┘\n",
       "</pre>\n"
      ],
      "text/plain": [
       "┏━━━━━━━━━━━━━━━━━━━━━━━━━━━━━━━━━┳━━━━━━━━━━━━━━━━━━━━━━━━┳━━━━━━━━━━━━━━━┓\n",
       "┃\u001b[1m \u001b[0m\u001b[1mLayer (type)                   \u001b[0m\u001b[1m \u001b[0m┃\u001b[1m \u001b[0m\u001b[1mOutput Shape          \u001b[0m\u001b[1m \u001b[0m┃\u001b[1m \u001b[0m\u001b[1m      Param #\u001b[0m\u001b[1m \u001b[0m┃\n",
       "┡━━━━━━━━━━━━━━━━━━━━━━━━━━━━━━━━━╇━━━━━━━━━━━━━━━━━━━━━━━━╇━━━━━━━━━━━━━━━┩\n",
       "│ lstm (\u001b[38;5;33mLSTM\u001b[0m)                     │ (\u001b[38;5;45mNone\u001b[0m, \u001b[38;5;34m100\u001b[0m, \u001b[38;5;34m50\u001b[0m)        │        \u001b[38;5;34m10,400\u001b[0m │\n",
       "├─────────────────────────────────┼────────────────────────┼───────────────┤\n",
       "│ lstm_1 (\u001b[38;5;33mLSTM\u001b[0m)                   │ (\u001b[38;5;45mNone\u001b[0m, \u001b[38;5;34m100\u001b[0m, \u001b[38;5;34m50\u001b[0m)        │        \u001b[38;5;34m20,200\u001b[0m │\n",
       "├─────────────────────────────────┼────────────────────────┼───────────────┤\n",
       "│ lstm_2 (\u001b[38;5;33mLSTM\u001b[0m)                   │ (\u001b[38;5;45mNone\u001b[0m, \u001b[38;5;34m50\u001b[0m)             │        \u001b[38;5;34m20,200\u001b[0m │\n",
       "├─────────────────────────────────┼────────────────────────┼───────────────┤\n",
       "│ dense (\u001b[38;5;33mDense\u001b[0m)                   │ (\u001b[38;5;45mNone\u001b[0m, \u001b[38;5;34m1\u001b[0m)              │            \u001b[38;5;34m51\u001b[0m │\n",
       "└─────────────────────────────────┴────────────────────────┴───────────────┘\n"
      ]
     },
     "metadata": {},
     "output_type": "display_data"
    },
    {
     "data": {
      "text/html": [
       "<pre style=\"white-space:pre;overflow-x:auto;line-height:normal;font-family:Menlo,'DejaVu Sans Mono',consolas,'Courier New',monospace\"><span style=\"font-weight: bold\"> Total params: </span><span style=\"color: #00af00; text-decoration-color: #00af00\">50,851</span> (198.64 KB)\n",
       "</pre>\n"
      ],
      "text/plain": [
       "\u001b[1m Total params: \u001b[0m\u001b[38;5;34m50,851\u001b[0m (198.64 KB)\n"
      ]
     },
     "metadata": {},
     "output_type": "display_data"
    },
    {
     "data": {
      "text/html": [
       "<pre style=\"white-space:pre;overflow-x:auto;line-height:normal;font-family:Menlo,'DejaVu Sans Mono',consolas,'Courier New',monospace\"><span style=\"font-weight: bold\"> Trainable params: </span><span style=\"color: #00af00; text-decoration-color: #00af00\">50,851</span> (198.64 KB)\n",
       "</pre>\n"
      ],
      "text/plain": [
       "\u001b[1m Trainable params: \u001b[0m\u001b[38;5;34m50,851\u001b[0m (198.64 KB)\n"
      ]
     },
     "metadata": {},
     "output_type": "display_data"
    },
    {
     "data": {
      "text/html": [
       "<pre style=\"white-space:pre;overflow-x:auto;line-height:normal;font-family:Menlo,'DejaVu Sans Mono',consolas,'Courier New',monospace\"><span style=\"font-weight: bold\"> Non-trainable params: </span><span style=\"color: #00af00; text-decoration-color: #00af00\">0</span> (0.00 B)\n",
       "</pre>\n"
      ],
      "text/plain": [
       "\u001b[1m Non-trainable params: \u001b[0m\u001b[38;5;34m0\u001b[0m (0.00 B)\n"
      ]
     },
     "metadata": {},
     "output_type": "display_data"
    }
   ],
   "source": [
    "model.summary()"
   ]
  },
  {
   "cell_type": "markdown",
   "id": "c0c23b8c",
   "metadata": {},
   "source": [
    "##### verbose Options:\n",
    "\n",
    "verbose=0: No output is shown during training.\n",
    "\n",
    "verbose=1: A progress bar is shown during training, along with other metrics (like loss and accuracy) for each epoch.\n",
    "\n",
    "verbose=2: One line is printed per epoch, showing the training metrics (e.g., loss, accuracy) without a progress bar."
   ]
  },
  {
   "cell_type": "code",
   "execution_count": 17,
   "id": "ac9dd594",
   "metadata": {},
   "outputs": [
    {
     "name": "stdout",
     "output_type": "stream",
     "text": [
      "Epoch 1/100\n",
      "\u001b[1m15/15\u001b[0m \u001b[32m━━━━━━━━━━━━━━━━━━━━\u001b[0m\u001b[37m\u001b[0m \u001b[1m2s\u001b[0m 72ms/step - loss: 0.0039 - val_loss: 0.0486\n",
      "Epoch 2/100\n",
      "\u001b[1m15/15\u001b[0m \u001b[32m━━━━━━━━━━━━━━━━━━━━\u001b[0m\u001b[37m\u001b[0m \u001b[1m1s\u001b[0m 62ms/step - loss: 4.1787e-04 - val_loss: 0.0035\n",
      "Epoch 3/100\n",
      "\u001b[1m15/15\u001b[0m \u001b[32m━━━━━━━━━━━━━━━━━━━━\u001b[0m\u001b[37m\u001b[0m \u001b[1m1s\u001b[0m 61ms/step - loss: 2.0954e-04 - val_loss: 0.0130\n",
      "Epoch 4/100\n",
      "\u001b[1m15/15\u001b[0m \u001b[32m━━━━━━━━━━━━━━━━━━━━\u001b[0m\u001b[37m\u001b[0m \u001b[1m1s\u001b[0m 62ms/step - loss: 1.6314e-04 - val_loss: 0.0120\n",
      "Epoch 5/100\n",
      "\u001b[1m15/15\u001b[0m \u001b[32m━━━━━━━━━━━━━━━━━━━━\u001b[0m\u001b[37m\u001b[0m \u001b[1m1s\u001b[0m 64ms/step - loss: 1.7004e-04 - val_loss: 0.0149\n",
      "Epoch 6/100\n",
      "\u001b[1m15/15\u001b[0m \u001b[32m━━━━━━━━━━━━━━━━━━━━\u001b[0m\u001b[37m\u001b[0m \u001b[1m1s\u001b[0m 67ms/step - loss: 1.6702e-04 - val_loss: 0.0167\n",
      "Epoch 7/100\n",
      "\u001b[1m15/15\u001b[0m \u001b[32m━━━━━━━━━━━━━━━━━━━━\u001b[0m\u001b[37m\u001b[0m \u001b[1m1s\u001b[0m 64ms/step - loss: 1.7523e-04 - val_loss: 0.0180\n",
      "Epoch 8/100\n",
      "\u001b[1m15/15\u001b[0m \u001b[32m━━━━━━━━━━━━━━━━━━━━\u001b[0m\u001b[37m\u001b[0m \u001b[1m1s\u001b[0m 65ms/step - loss: 1.5900e-04 - val_loss: 0.0127\n",
      "Epoch 9/100\n",
      "\u001b[1m15/15\u001b[0m \u001b[32m━━━━━━━━━━━━━━━━━━━━\u001b[0m\u001b[37m\u001b[0m \u001b[1m1s\u001b[0m 70ms/step - loss: 1.3200e-04 - val_loss: 0.0150\n",
      "Epoch 10/100\n",
      "\u001b[1m15/15\u001b[0m \u001b[32m━━━━━━━━━━━━━━━━━━━━\u001b[0m\u001b[37m\u001b[0m \u001b[1m1s\u001b[0m 69ms/step - loss: 1.2377e-04 - val_loss: 0.0181\n",
      "Epoch 11/100\n",
      "\u001b[1m15/15\u001b[0m \u001b[32m━━━━━━━━━━━━━━━━━━━━\u001b[0m\u001b[37m\u001b[0m \u001b[1m1s\u001b[0m 67ms/step - loss: 1.3866e-04 - val_loss: 0.0122\n",
      "Epoch 12/100\n",
      "\u001b[1m15/15\u001b[0m \u001b[32m━━━━━━━━━━━━━━━━━━━━\u001b[0m\u001b[37m\u001b[0m \u001b[1m1s\u001b[0m 67ms/step - loss: 1.2499e-04 - val_loss: 0.0187\n",
      "Epoch 13/100\n",
      "\u001b[1m15/15\u001b[0m \u001b[32m━━━━━━━━━━━━━━━━━━━━\u001b[0m\u001b[37m\u001b[0m \u001b[1m1s\u001b[0m 65ms/step - loss: 1.2474e-04 - val_loss: 0.0134\n",
      "Epoch 14/100\n",
      "\u001b[1m15/15\u001b[0m \u001b[32m━━━━━━━━━━━━━━━━━━━━\u001b[0m\u001b[37m\u001b[0m \u001b[1m1s\u001b[0m 66ms/step - loss: 1.0494e-04 - val_loss: 0.0148\n",
      "Epoch 15/100\n",
      "\u001b[1m15/15\u001b[0m \u001b[32m━━━━━━━━━━━━━━━━━━━━\u001b[0m\u001b[37m\u001b[0m \u001b[1m1s\u001b[0m 67ms/step - loss: 1.0307e-04 - val_loss: 0.0112\n",
      "Epoch 16/100\n",
      "\u001b[1m15/15\u001b[0m \u001b[32m━━━━━━━━━━━━━━━━━━━━\u001b[0m\u001b[37m\u001b[0m \u001b[1m1s\u001b[0m 68ms/step - loss: 1.1636e-04 - val_loss: 0.0187\n",
      "Epoch 17/100\n",
      "\u001b[1m15/15\u001b[0m \u001b[32m━━━━━━━━━━━━━━━━━━━━\u001b[0m\u001b[37m\u001b[0m \u001b[1m1s\u001b[0m 69ms/step - loss: 1.0178e-04 - val_loss: 0.0132\n",
      "Epoch 18/100\n",
      "\u001b[1m15/15\u001b[0m \u001b[32m━━━━━━━━━━━━━━━━━━━━\u001b[0m\u001b[37m\u001b[0m \u001b[1m1s\u001b[0m 67ms/step - loss: 9.3011e-05 - val_loss: 0.0124\n",
      "Epoch 19/100\n",
      "\u001b[1m15/15\u001b[0m \u001b[32m━━━━━━━━━━━━━━━━━━━━\u001b[0m\u001b[37m\u001b[0m \u001b[1m1s\u001b[0m 67ms/step - loss: 8.9795e-05 - val_loss: 0.0113\n",
      "Epoch 20/100\n",
      "\u001b[1m15/15\u001b[0m \u001b[32m━━━━━━━━━━━━━━━━━━━━\u001b[0m\u001b[37m\u001b[0m \u001b[1m1s\u001b[0m 72ms/step - loss: 9.4049e-05 - val_loss: 0.0178\n",
      "Epoch 21/100\n",
      "\u001b[1m15/15\u001b[0m \u001b[32m━━━━━━━━━━━━━━━━━━━━\u001b[0m\u001b[37m\u001b[0m \u001b[1m1s\u001b[0m 65ms/step - loss: 9.6138e-05 - val_loss: 0.0123\n",
      "Epoch 22/100\n",
      "\u001b[1m15/15\u001b[0m \u001b[32m━━━━━━━━━━━━━━━━━━━━\u001b[0m\u001b[37m\u001b[0m \u001b[1m1s\u001b[0m 67ms/step - loss: 8.9673e-05 - val_loss: 0.0159\n",
      "Epoch 23/100\n",
      "\u001b[1m15/15\u001b[0m \u001b[32m━━━━━━━━━━━━━━━━━━━━\u001b[0m\u001b[37m\u001b[0m \u001b[1m1s\u001b[0m 68ms/step - loss: 9.6979e-05 - val_loss: 0.0300\n",
      "Epoch 24/100\n",
      "\u001b[1m15/15\u001b[0m \u001b[32m━━━━━━━━━━━━━━━━━━━━\u001b[0m\u001b[37m\u001b[0m \u001b[1m1s\u001b[0m 66ms/step - loss: 1.2529e-04 - val_loss: 0.0234\n",
      "Epoch 25/100\n",
      "\u001b[1m15/15\u001b[0m \u001b[32m━━━━━━━━━━━━━━━━━━━━\u001b[0m\u001b[37m\u001b[0m \u001b[1m1s\u001b[0m 67ms/step - loss: 1.3813e-04 - val_loss: 0.0105\n",
      "Epoch 26/100\n",
      "\u001b[1m15/15\u001b[0m \u001b[32m━━━━━━━━━━━━━━━━━━━━\u001b[0m\u001b[37m\u001b[0m \u001b[1m1s\u001b[0m 66ms/step - loss: 1.0673e-04 - val_loss: 0.0176\n",
      "Epoch 27/100\n",
      "\u001b[1m15/15\u001b[0m \u001b[32m━━━━━━━━━━━━━━━━━━━━\u001b[0m\u001b[37m\u001b[0m \u001b[1m1s\u001b[0m 65ms/step - loss: 7.8515e-05 - val_loss: 0.0198\n",
      "Epoch 28/100\n",
      "\u001b[1m15/15\u001b[0m \u001b[32m━━━━━━━━━━━━━━━━━━━━\u001b[0m\u001b[37m\u001b[0m \u001b[1m1s\u001b[0m 68ms/step - loss: 6.3655e-05 - val_loss: 0.0160\n",
      "Epoch 29/100\n",
      "\u001b[1m15/15\u001b[0m \u001b[32m━━━━━━━━━━━━━━━━━━━━\u001b[0m\u001b[37m\u001b[0m \u001b[1m1s\u001b[0m 68ms/step - loss: 6.4388e-05 - val_loss: 0.0203\n",
      "Epoch 30/100\n",
      "\u001b[1m15/15\u001b[0m \u001b[32m━━━━━━━━━━━━━━━━━━━━\u001b[0m\u001b[37m\u001b[0m \u001b[1m1s\u001b[0m 67ms/step - loss: 7.2719e-05 - val_loss: 0.0200\n",
      "Epoch 31/100\n",
      "\u001b[1m15/15\u001b[0m \u001b[32m━━━━━━━━━━━━━━━━━━━━\u001b[0m\u001b[37m\u001b[0m \u001b[1m1s\u001b[0m 67ms/step - loss: 7.0344e-05 - val_loss: 0.0144\n",
      "Epoch 32/100\n",
      "\u001b[1m15/15\u001b[0m \u001b[32m━━━━━━━━━━━━━━━━━━━━\u001b[0m\u001b[37m\u001b[0m \u001b[1m1s\u001b[0m 66ms/step - loss: 8.7670e-05 - val_loss: 0.0177\n",
      "Epoch 33/100\n",
      "\u001b[1m15/15\u001b[0m \u001b[32m━━━━━━━━━━━━━━━━━━━━\u001b[0m\u001b[37m\u001b[0m \u001b[1m1s\u001b[0m 66ms/step - loss: 7.2147e-05 - val_loss: 0.0190\n",
      "Epoch 34/100\n",
      "\u001b[1m15/15\u001b[0m \u001b[32m━━━━━━━━━━━━━━━━━━━━\u001b[0m\u001b[37m\u001b[0m \u001b[1m1s\u001b[0m 66ms/step - loss: 6.8002e-05 - val_loss: 0.0154\n",
      "Epoch 35/100\n",
      "\u001b[1m15/15\u001b[0m \u001b[32m━━━━━━━━━━━━━━━━━━━━\u001b[0m\u001b[37m\u001b[0m \u001b[1m1s\u001b[0m 66ms/step - loss: 6.0946e-05 - val_loss: 0.0140\n",
      "Epoch 36/100\n",
      "\u001b[1m15/15\u001b[0m \u001b[32m━━━━━━━━━━━━━━━━━━━━\u001b[0m\u001b[37m\u001b[0m \u001b[1m1s\u001b[0m 66ms/step - loss: 8.0639e-05 - val_loss: 0.0174\n",
      "Epoch 37/100\n",
      "\u001b[1m15/15\u001b[0m \u001b[32m━━━━━━━━━━━━━━━━━━━━\u001b[0m\u001b[37m\u001b[0m \u001b[1m1s\u001b[0m 65ms/step - loss: 8.3355e-05 - val_loss: 0.0159\n",
      "Epoch 38/100\n",
      "\u001b[1m15/15\u001b[0m \u001b[32m━━━━━━━━━━━━━━━━━━━━\u001b[0m\u001b[37m\u001b[0m \u001b[1m1s\u001b[0m 66ms/step - loss: 6.0038e-05 - val_loss: 0.0113\n",
      "Epoch 39/100\n",
      "\u001b[1m15/15\u001b[0m \u001b[32m━━━━━━━━━━━━━━━━━━━━\u001b[0m\u001b[37m\u001b[0m \u001b[1m1s\u001b[0m 68ms/step - loss: 5.8042e-05 - val_loss: 0.0087\n",
      "Epoch 40/100\n",
      "\u001b[1m15/15\u001b[0m \u001b[32m━━━━━━━━━━━━━━━━━━━━\u001b[0m\u001b[37m\u001b[0m \u001b[1m1s\u001b[0m 67ms/step - loss: 6.2027e-05 - val_loss: 0.0131\n",
      "Epoch 41/100\n",
      "\u001b[1m15/15\u001b[0m \u001b[32m━━━━━━━━━━━━━━━━━━━━\u001b[0m\u001b[37m\u001b[0m \u001b[1m1s\u001b[0m 68ms/step - loss: 5.3774e-05 - val_loss: 0.0137\n",
      "Epoch 42/100\n",
      "\u001b[1m15/15\u001b[0m \u001b[32m━━━━━━━━━━━━━━━━━━━━\u001b[0m\u001b[37m\u001b[0m \u001b[1m1s\u001b[0m 71ms/step - loss: 5.6450e-05 - val_loss: 0.0136\n",
      "Epoch 43/100\n",
      "\u001b[1m15/15\u001b[0m \u001b[32m━━━━━━━━━━━━━━━━━━━━\u001b[0m\u001b[37m\u001b[0m \u001b[1m1s\u001b[0m 68ms/step - loss: 5.4787e-05 - val_loss: 0.0112\n",
      "Epoch 44/100\n",
      "\u001b[1m15/15\u001b[0m \u001b[32m━━━━━━━━━━━━━━━━━━━━\u001b[0m\u001b[37m\u001b[0m \u001b[1m1s\u001b[0m 69ms/step - loss: 6.3280e-05 - val_loss: 0.0083\n",
      "Epoch 45/100\n",
      "\u001b[1m15/15\u001b[0m \u001b[32m━━━━━━━━━━━━━━━━━━━━\u001b[0m\u001b[37m\u001b[0m \u001b[1m1s\u001b[0m 68ms/step - loss: 6.5993e-05 - val_loss: 0.0043\n",
      "Epoch 46/100\n",
      "\u001b[1m15/15\u001b[0m \u001b[32m━━━━━━━━━━━━━━━━━━━━\u001b[0m\u001b[37m\u001b[0m \u001b[1m1s\u001b[0m 67ms/step - loss: 6.0365e-05 - val_loss: 0.0091\n",
      "Epoch 47/100\n",
      "\u001b[1m15/15\u001b[0m \u001b[32m━━━━━━━━━━━━━━━━━━━━\u001b[0m\u001b[37m\u001b[0m \u001b[1m1s\u001b[0m 67ms/step - loss: 4.5898e-05 - val_loss: 0.0070\n",
      "Epoch 48/100\n",
      "\u001b[1m15/15\u001b[0m \u001b[32m━━━━━━━━━━━━━━━━━━━━\u001b[0m\u001b[37m\u001b[0m \u001b[1m1s\u001b[0m 66ms/step - loss: 4.7408e-05 - val_loss: 0.0086\n",
      "Epoch 49/100\n",
      "\u001b[1m15/15\u001b[0m \u001b[32m━━━━━━━━━━━━━━━━━━━━\u001b[0m\u001b[37m\u001b[0m \u001b[1m1s\u001b[0m 70ms/step - loss: 4.9449e-05 - val_loss: 0.0054\n",
      "Epoch 50/100\n",
      "\u001b[1m15/15\u001b[0m \u001b[32m━━━━━━━━━━━━━━━━━━━━\u001b[0m\u001b[37m\u001b[0m \u001b[1m1s\u001b[0m 74ms/step - loss: 5.5935e-05 - val_loss: 0.0076\n",
      "Epoch 51/100\n",
      "\u001b[1m15/15\u001b[0m \u001b[32m━━━━━━━━━━━━━━━━━━━━\u001b[0m\u001b[37m\u001b[0m \u001b[1m1s\u001b[0m 72ms/step - loss: 4.3145e-05 - val_loss: 0.0074\n",
      "Epoch 52/100\n",
      "\u001b[1m15/15\u001b[0m \u001b[32m━━━━━━━━━━━━━━━━━━━━\u001b[0m\u001b[37m\u001b[0m \u001b[1m1s\u001b[0m 70ms/step - loss: 4.5835e-05 - val_loss: 0.0098\n",
      "Epoch 53/100\n",
      "\u001b[1m15/15\u001b[0m \u001b[32m━━━━━━━━━━━━━━━━━━━━\u001b[0m\u001b[37m\u001b[0m \u001b[1m1s\u001b[0m 66ms/step - loss: 4.6725e-05 - val_loss: 0.0039\n",
      "Epoch 54/100\n",
      "\u001b[1m15/15\u001b[0m \u001b[32m━━━━━━━━━━━━━━━━━━━━\u001b[0m\u001b[37m\u001b[0m \u001b[1m1s\u001b[0m 71ms/step - loss: 6.1241e-05 - val_loss: 0.0055\n",
      "Epoch 55/100\n",
      "\u001b[1m15/15\u001b[0m \u001b[32m━━━━━━━━━━━━━━━━━━━━\u001b[0m\u001b[37m\u001b[0m \u001b[1m1s\u001b[0m 69ms/step - loss: 4.1414e-05 - val_loss: 0.0051\n",
      "Epoch 56/100\n",
      "\u001b[1m15/15\u001b[0m \u001b[32m━━━━━━━━━━━━━━━━━━━━\u001b[0m\u001b[37m\u001b[0m \u001b[1m1s\u001b[0m 70ms/step - loss: 5.7359e-05 - val_loss: 0.0051\n",
      "Epoch 57/100\n",
      "\u001b[1m15/15\u001b[0m \u001b[32m━━━━━━━━━━━━━━━━━━━━\u001b[0m\u001b[37m\u001b[0m \u001b[1m1s\u001b[0m 79ms/step - loss: 4.4973e-05 - val_loss: 0.0046\n",
      "Epoch 58/100\n",
      "\u001b[1m15/15\u001b[0m \u001b[32m━━━━━━━━━━━━━━━━━━━━\u001b[0m\u001b[37m\u001b[0m \u001b[1m1s\u001b[0m 73ms/step - loss: 5.1422e-05 - val_loss: 0.0052\n",
      "Epoch 59/100\n",
      "\u001b[1m15/15\u001b[0m \u001b[32m━━━━━━━━━━━━━━━━━━━━\u001b[0m\u001b[37m\u001b[0m \u001b[1m1s\u001b[0m 70ms/step - loss: 4.0179e-05 - val_loss: 0.0055\n",
      "Epoch 60/100\n",
      "\u001b[1m15/15\u001b[0m \u001b[32m━━━━━━━━━━━━━━━━━━━━\u001b[0m\u001b[37m\u001b[0m \u001b[1m1s\u001b[0m 68ms/step - loss: 5.0622e-05 - val_loss: 0.0051\n",
      "Epoch 61/100\n",
      "\u001b[1m15/15\u001b[0m \u001b[32m━━━━━━━━━━━━━━━━━━━━\u001b[0m\u001b[37m\u001b[0m \u001b[1m1s\u001b[0m 75ms/step - loss: 4.4240e-05 - val_loss: 0.0039\n",
      "Epoch 62/100\n",
      "\u001b[1m15/15\u001b[0m \u001b[32m━━━━━━━━━━━━━━━━━━━━\u001b[0m\u001b[37m\u001b[0m \u001b[1m1s\u001b[0m 75ms/step - loss: 4.3255e-05 - val_loss: 0.0037\n",
      "Epoch 63/100\n",
      "\u001b[1m15/15\u001b[0m \u001b[32m━━━━━━━━━━━━━━━━━━━━\u001b[0m\u001b[37m\u001b[0m \u001b[1m1s\u001b[0m 69ms/step - loss: 4.2571e-05 - val_loss: 0.0040\n",
      "Epoch 64/100\n",
      "\u001b[1m15/15\u001b[0m \u001b[32m━━━━━━━━━━━━━━━━━━━━\u001b[0m\u001b[37m\u001b[0m \u001b[1m1s\u001b[0m 70ms/step - loss: 4.2347e-05 - val_loss: 0.0034\n",
      "Epoch 65/100\n",
      "\u001b[1m15/15\u001b[0m \u001b[32m━━━━━━━━━━━━━━━━━━━━\u001b[0m\u001b[37m\u001b[0m \u001b[1m1s\u001b[0m 70ms/step - loss: 5.8228e-05 - val_loss: 0.0036\n",
      "Epoch 66/100\n",
      "\u001b[1m15/15\u001b[0m \u001b[32m━━━━━━━━━━━━━━━━━━━━\u001b[0m\u001b[37m\u001b[0m \u001b[1m1s\u001b[0m 70ms/step - loss: 4.4027e-05 - val_loss: 0.0058\n",
      "Epoch 67/100\n",
      "\u001b[1m15/15\u001b[0m \u001b[32m━━━━━━━━━━━━━━━━━━━━\u001b[0m\u001b[37m\u001b[0m \u001b[1m1s\u001b[0m 72ms/step - loss: 3.7825e-05 - val_loss: 0.0045\n",
      "Epoch 68/100\n",
      "\u001b[1m15/15\u001b[0m \u001b[32m━━━━━━━━━━━━━━━━━━━━\u001b[0m\u001b[37m\u001b[0m \u001b[1m1s\u001b[0m 69ms/step - loss: 3.8982e-05 - val_loss: 0.0063\n",
      "Epoch 69/100\n",
      "\u001b[1m15/15\u001b[0m \u001b[32m━━━━━━━━━━━━━━━━━━━━\u001b[0m\u001b[37m\u001b[0m \u001b[1m1s\u001b[0m 68ms/step - loss: 4.6556e-05 - val_loss: 0.0019\n",
      "Epoch 70/100\n",
      "\u001b[1m15/15\u001b[0m \u001b[32m━━━━━━━━━━━━━━━━━━━━\u001b[0m\u001b[37m\u001b[0m \u001b[1m1s\u001b[0m 69ms/step - loss: 5.7168e-05 - val_loss: 0.0033\n",
      "Epoch 71/100\n",
      "\u001b[1m15/15\u001b[0m \u001b[32m━━━━━━━━━━━━━━━━━━━━\u001b[0m\u001b[37m\u001b[0m \u001b[1m1s\u001b[0m 67ms/step - loss: 3.6061e-05 - val_loss: 0.0032\n",
      "Epoch 72/100\n",
      "\u001b[1m15/15\u001b[0m \u001b[32m━━━━━━━━━━━━━━━━━━━━\u001b[0m\u001b[37m\u001b[0m \u001b[1m1s\u001b[0m 66ms/step - loss: 4.0884e-05 - val_loss: 0.0026\n",
      "Epoch 73/100\n",
      "\u001b[1m15/15\u001b[0m \u001b[32m━━━━━━━━━━━━━━━━━━━━\u001b[0m\u001b[37m\u001b[0m \u001b[1m1s\u001b[0m 67ms/step - loss: 3.7750e-05 - val_loss: 0.0065\n",
      "Epoch 74/100\n",
      "\u001b[1m15/15\u001b[0m \u001b[32m━━━━━━━━━━━━━━━━━━━━\u001b[0m\u001b[37m\u001b[0m \u001b[1m1s\u001b[0m 69ms/step - loss: 6.9287e-05 - val_loss: 0.0050\n",
      "Epoch 75/100\n",
      "\u001b[1m15/15\u001b[0m \u001b[32m━━━━━━━━━━━━━━━━━━━━\u001b[0m\u001b[37m\u001b[0m \u001b[1m1s\u001b[0m 70ms/step - loss: 3.8486e-05 - val_loss: 0.0035\n",
      "Epoch 76/100\n",
      "\u001b[1m15/15\u001b[0m \u001b[32m━━━━━━━━━━━━━━━━━━━━\u001b[0m\u001b[37m\u001b[0m \u001b[1m1s\u001b[0m 75ms/step - loss: 3.6121e-05 - val_loss: 0.0042\n",
      "Epoch 77/100\n",
      "\u001b[1m15/15\u001b[0m \u001b[32m━━━━━━━━━━━━━━━━━━━━\u001b[0m\u001b[37m\u001b[0m \u001b[1m1s\u001b[0m 76ms/step - loss: 3.7566e-05 - val_loss: 0.0068\n",
      "Epoch 78/100\n",
      "\u001b[1m15/15\u001b[0m \u001b[32m━━━━━━━━━━━━━━━━━━━━\u001b[0m\u001b[37m\u001b[0m \u001b[1m1s\u001b[0m 74ms/step - loss: 4.2845e-05 - val_loss: 0.0067\n",
      "Epoch 79/100\n",
      "\u001b[1m15/15\u001b[0m \u001b[32m━━━━━━━━━━━━━━━━━━━━\u001b[0m\u001b[37m\u001b[0m \u001b[1m1s\u001b[0m 69ms/step - loss: 3.9781e-05 - val_loss: 0.0074\n",
      "Epoch 80/100\n",
      "\u001b[1m15/15\u001b[0m \u001b[32m━━━━━━━━━━━━━━━━━━━━\u001b[0m\u001b[37m\u001b[0m \u001b[1m1s\u001b[0m 69ms/step - loss: 5.2227e-05 - val_loss: 0.0038\n",
      "Epoch 81/100\n",
      "\u001b[1m15/15\u001b[0m \u001b[32m━━━━━━━━━━━━━━━━━━━━\u001b[0m\u001b[37m\u001b[0m \u001b[1m1s\u001b[0m 66ms/step - loss: 3.4206e-05 - val_loss: 0.0042\n",
      "Epoch 82/100\n",
      "\u001b[1m15/15\u001b[0m \u001b[32m━━━━━━━━━━━━━━━━━━━━\u001b[0m\u001b[37m\u001b[0m \u001b[1m1s\u001b[0m 73ms/step - loss: 3.7939e-05 - val_loss: 0.0026\n",
      "Epoch 83/100\n",
      "\u001b[1m15/15\u001b[0m \u001b[32m━━━━━━━━━━━━━━━━━━━━\u001b[0m\u001b[37m\u001b[0m \u001b[1m1s\u001b[0m 67ms/step - loss: 4.2507e-05 - val_loss: 0.0017\n",
      "Epoch 84/100\n",
      "\u001b[1m15/15\u001b[0m \u001b[32m━━━━━━━━━━━━━━━━━━━━\u001b[0m\u001b[37m\u001b[0m \u001b[1m1s\u001b[0m 69ms/step - loss: 4.0508e-05 - val_loss: 0.0036\n",
      "Epoch 85/100\n",
      "\u001b[1m15/15\u001b[0m \u001b[32m━━━━━━━━━━━━━━━━━━━━\u001b[0m\u001b[37m\u001b[0m \u001b[1m1s\u001b[0m 71ms/step - loss: 3.3532e-05 - val_loss: 0.0038\n",
      "Epoch 86/100\n",
      "\u001b[1m15/15\u001b[0m \u001b[32m━━━━━━━━━━━━━━━━━━━━\u001b[0m\u001b[37m\u001b[0m \u001b[1m1s\u001b[0m 72ms/step - loss: 3.0937e-05 - val_loss: 0.0043\n",
      "Epoch 87/100\n",
      "\u001b[1m15/15\u001b[0m \u001b[32m━━━━━━━━━━━━━━━━━━━━\u001b[0m\u001b[37m\u001b[0m \u001b[1m1s\u001b[0m 70ms/step - loss: 3.3130e-05 - val_loss: 0.0049\n",
      "Epoch 88/100\n",
      "\u001b[1m15/15\u001b[0m \u001b[32m━━━━━━━━━━━━━━━━━━━━\u001b[0m\u001b[37m\u001b[0m \u001b[1m1s\u001b[0m 73ms/step - loss: 3.4521e-05 - val_loss: 0.0026\n",
      "Epoch 89/100\n",
      "\u001b[1m15/15\u001b[0m \u001b[32m━━━━━━━━━━━━━━━━━━━━\u001b[0m\u001b[37m\u001b[0m \u001b[1m1s\u001b[0m 69ms/step - loss: 3.6833e-05 - val_loss: 0.0021\n",
      "Epoch 90/100\n",
      "\u001b[1m15/15\u001b[0m \u001b[32m━━━━━━━━━━━━━━━━━━━━\u001b[0m\u001b[37m\u001b[0m \u001b[1m1s\u001b[0m 68ms/step - loss: 3.1949e-05 - val_loss: 0.0023\n",
      "Epoch 91/100\n",
      "\u001b[1m15/15\u001b[0m \u001b[32m━━━━━━━━━━━━━━━━━━━━\u001b[0m\u001b[37m\u001b[0m \u001b[1m1s\u001b[0m 68ms/step - loss: 3.8419e-05 - val_loss: 0.0016\n",
      "Epoch 92/100\n",
      "\u001b[1m15/15\u001b[0m \u001b[32m━━━━━━━━━━━━━━━━━━━━\u001b[0m\u001b[37m\u001b[0m \u001b[1m1s\u001b[0m 68ms/step - loss: 3.9418e-05 - val_loss: 0.0013\n",
      "Epoch 93/100\n",
      "\u001b[1m15/15\u001b[0m \u001b[32m━━━━━━━━━━━━━━━━━━━━\u001b[0m\u001b[37m\u001b[0m \u001b[1m1s\u001b[0m 84ms/step - loss: 3.4575e-05 - val_loss: 0.0012\n",
      "Epoch 94/100\n",
      "\u001b[1m15/15\u001b[0m \u001b[32m━━━━━━━━━━━━━━━━━━━━\u001b[0m\u001b[37m\u001b[0m \u001b[1m1s\u001b[0m 67ms/step - loss: 4.8597e-05 - val_loss: 0.0072\n",
      "Epoch 95/100\n",
      "\u001b[1m15/15\u001b[0m \u001b[32m━━━━━━━━━━━━━━━━━━━━\u001b[0m\u001b[37m\u001b[0m \u001b[1m1s\u001b[0m 69ms/step - loss: 5.9700e-05 - val_loss: 0.0027\n",
      "Epoch 96/100\n",
      "\u001b[1m15/15\u001b[0m \u001b[32m━━━━━━━━━━━━━━━━━━━━\u001b[0m\u001b[37m\u001b[0m \u001b[1m1s\u001b[0m 75ms/step - loss: 3.7882e-05 - val_loss: 0.0040\n",
      "Epoch 97/100\n",
      "\u001b[1m15/15\u001b[0m \u001b[32m━━━━━━━━━━━━━━━━━━━━\u001b[0m\u001b[37m\u001b[0m \u001b[1m1s\u001b[0m 68ms/step - loss: 2.9871e-05 - val_loss: 0.0039\n",
      "Epoch 98/100\n",
      "\u001b[1m15/15\u001b[0m \u001b[32m━━━━━━━━━━━━━━━━━━━━\u001b[0m\u001b[37m\u001b[0m \u001b[1m1s\u001b[0m 67ms/step - loss: 2.8672e-05 - val_loss: 0.0041\n",
      "Epoch 99/100\n",
      "\u001b[1m15/15\u001b[0m \u001b[32m━━━━━━━━━━━━━━━━━━━━\u001b[0m\u001b[37m\u001b[0m \u001b[1m1s\u001b[0m 67ms/step - loss: 3.0211e-05 - val_loss: 0.0034\n",
      "Epoch 100/100\n",
      "\u001b[1m15/15\u001b[0m \u001b[32m━━━━━━━━━━━━━━━━━━━━\u001b[0m\u001b[37m\u001b[0m \u001b[1m1s\u001b[0m 67ms/step - loss: 3.0163e-05 - val_loss: 0.0033\n"
     ]
    },
    {
     "data": {
      "text/plain": [
       "<keras.src.callbacks.history.History at 0x3175eaa10>"
      ]
     },
     "execution_count": 17,
     "metadata": {},
     "output_type": "execute_result"
    }
   ],
   "source": [
    "model.fit(x_train,y_train,validation_data=(x_test,y_test),epochs=100,batch_size=64,verbose=1)"
   ]
  },
  {
   "cell_type": "code",
   "execution_count": 18,
   "id": "8898a382",
   "metadata": {},
   "outputs": [
    {
     "name": "stdout",
     "output_type": "stream",
     "text": [
      "\u001b[1m29/29\u001b[0m \u001b[32m━━━━━━━━━━━━━━━━━━━━\u001b[0m\u001b[37m\u001b[0m \u001b[1m1s\u001b[0m 14ms/step\n",
      "\u001b[1m11/11\u001b[0m \u001b[32m━━━━━━━━━━━━━━━━━━━━\u001b[0m\u001b[37m\u001b[0m \u001b[1m0s\u001b[0m 10ms/step\n"
     ]
    }
   ],
   "source": [
    "train_predict=model.predict(x_train)\n",
    "test_predict=model.predict(x_test)"
   ]
  },
  {
   "cell_type": "code",
   "execution_count": 19,
   "id": "9514166d",
   "metadata": {},
   "outputs": [],
   "source": [
    "train_predict=scaler.inverse_transform(train_predict)\n",
    "test_predict=scaler.inverse_transform(test_predict)"
   ]
  },
  {
   "cell_type": "code",
   "execution_count": 20,
   "id": "0562badc",
   "metadata": {},
   "outputs": [
    {
     "data": {
      "text/plain": [
       "array([[ 27.988972],\n",
       "       [ 28.07045 ],\n",
       "       [ 28.42957 ],\n",
       "       [ 29.091644],\n",
       "       [ 29.907753],\n",
       "       [ 30.50538 ],\n",
       "       [ 30.771526],\n",
       "       [ 30.540487],\n",
       "       [ 32.039787],\n",
       "       [ 34.552868],\n",
       "       [ 37.54762 ],\n",
       "       [ 39.24376 ],\n",
       "       [ 39.717304],\n",
       "       [ 39.61309 ],\n",
       "       [ 39.130764],\n",
       "       [ 38.36824 ],\n",
       "       [ 37.39265 ],\n",
       "       [ 36.62333 ],\n",
       "       [ 36.55449 ],\n",
       "       [ 36.92816 ],\n",
       "       [ 37.769306],\n",
       "       [ 38.890446],\n",
       "       [ 40.344997],\n",
       "       [ 41.720215],\n",
       "       [ 42.597733],\n",
       "       [ 42.69294 ],\n",
       "       [ 42.35259 ],\n",
       "       [ 41.811234],\n",
       "       [ 40.667385],\n",
       "       [ 39.630684],\n",
       "       [ 39.041607],\n",
       "       [ 38.911964],\n",
       "       [ 39.366142],\n",
       "       [ 40.24346 ],\n",
       "       [ 41.036568],\n",
       "       [ 41.26922 ],\n",
       "       [ 41.395863],\n",
       "       [ 41.28622 ],\n",
       "       [ 41.20274 ],\n",
       "       [ 41.401955],\n",
       "       [ 42.266483],\n",
       "       [ 43.409073],\n",
       "       [ 44.354637],\n",
       "       [ 45.00978 ],\n",
       "       [ 45.632294],\n",
       "       [ 45.434708],\n",
       "       [ 44.44457 ],\n",
       "       [ 43.331757],\n",
       "       [ 42.854492],\n",
       "       [ 42.786373],\n",
       "       [ 43.31613 ],\n",
       "       [ 44.229984],\n",
       "       [ 45.0896  ],\n",
       "       [ 45.455368],\n",
       "       [ 44.49129 ],\n",
       "       [ 43.259186],\n",
       "       [ 42.580597],\n",
       "       [ 42.50231 ],\n",
       "       [ 42.569366],\n",
       "       [ 41.997902],\n",
       "       [ 41.15653 ],\n",
       "       [ 40.101334],\n",
       "       [ 39.19137 ],\n",
       "       [ 39.838734],\n",
       "       [ 41.09858 ],\n",
       "       [ 42.07589 ],\n",
       "       [ 42.099987],\n",
       "       [ 42.47116 ],\n",
       "       [ 43.386353],\n",
       "       [ 44.230293],\n",
       "       [ 45.36749 ],\n",
       "       [ 45.543625],\n",
       "       [ 44.988476],\n",
       "       [ 44.764324],\n",
       "       [ 45.54519 ],\n",
       "       [ 46.783344],\n",
       "       [ 47.482544],\n",
       "       [ 47.48589 ],\n",
       "       [ 46.653046],\n",
       "       [ 45.13582 ],\n",
       "       [ 43.823524],\n",
       "       [ 42.764706],\n",
       "       [ 42.266785],\n",
       "       [ 42.252846],\n",
       "       [ 42.741047],\n",
       "       [ 42.90708 ],\n",
       "       [ 42.20773 ],\n",
       "       [ 41.64993 ],\n",
       "       [ 41.176105],\n",
       "       [ 40.471874],\n",
       "       [ 39.95166 ],\n",
       "       [ 39.720863],\n",
       "       [ 39.89198 ],\n",
       "       [ 40.228733],\n",
       "       [ 40.704224],\n",
       "       [ 41.515507],\n",
       "       [ 42.453022],\n",
       "       [ 42.926304],\n",
       "       [ 42.967148],\n",
       "       [ 42.964317],\n",
       "       [ 42.99093 ],\n",
       "       [ 43.11574 ],\n",
       "       [ 43.48022 ],\n",
       "       [ 44.177567],\n",
       "       [ 44.91137 ],\n",
       "       [ 45.020683],\n",
       "       [ 44.585857],\n",
       "       [ 43.16275 ],\n",
       "       [ 41.43948 ],\n",
       "       [ 40.200306],\n",
       "       [ 39.39063 ],\n",
       "       [ 39.02502 ],\n",
       "       [ 39.629982],\n",
       "       [ 40.240395],\n",
       "       [ 40.062912],\n",
       "       [ 39.56988 ],\n",
       "       [ 39.295166],\n",
       "       [ 38.849957],\n",
       "       [ 38.96636 ],\n",
       "       [ 40.069073],\n",
       "       [ 41.648415],\n",
       "       [ 43.336697],\n",
       "       [ 44.608875],\n",
       "       [ 45.482544],\n",
       "       [ 46.111816],\n",
       "       [ 46.55907 ],\n",
       "       [ 46.99931 ],\n",
       "       [ 47.580997],\n",
       "       [ 47.694794],\n",
       "       [ 47.485157],\n",
       "       [ 47.406853],\n",
       "       [ 47.488266],\n",
       "       [ 47.614975],\n",
       "       [ 47.140053],\n",
       "       [ 46.498318],\n",
       "       [ 45.997997],\n",
       "       [ 45.69917 ],\n",
       "       [ 45.757412],\n",
       "       [ 45.48247 ],\n",
       "       [ 45.022526],\n",
       "       [ 44.241653],\n",
       "       [ 43.66728 ],\n",
       "       [ 43.494873],\n",
       "       [ 43.67793 ],\n",
       "       [ 44.330406],\n",
       "       [ 44.777794],\n",
       "       [ 45.014984],\n",
       "       [ 45.635067],\n",
       "       [ 46.21647 ],\n",
       "       [ 46.783947],\n",
       "       [ 47.510887],\n",
       "       [ 47.969475],\n",
       "       [ 47.78209 ],\n",
       "       [ 47.391502],\n",
       "       [ 47.05115 ],\n",
       "       [ 47.017708],\n",
       "       [ 47.192055],\n",
       "       [ 47.514618],\n",
       "       [ 47.55592 ],\n",
       "       [ 46.99116 ],\n",
       "       [ 46.200806],\n",
       "       [ 45.669395],\n",
       "       [ 45.77417 ],\n",
       "       [ 46.622913],\n",
       "       [ 48.393288],\n",
       "       [ 50.73124 ],\n",
       "       [ 52.57127 ],\n",
       "       [ 53.727356],\n",
       "       [ 54.303894],\n",
       "       [ 54.259003],\n",
       "       [ 54.354378],\n",
       "       [ 54.884254],\n",
       "       [ 56.10318 ],\n",
       "       [ 56.98402 ],\n",
       "       [ 57.79718 ],\n",
       "       [ 58.625763],\n",
       "       [ 58.99222 ],\n",
       "       [ 59.040085],\n",
       "       [ 59.424866],\n",
       "       [ 59.16401 ],\n",
       "       [ 58.96671 ],\n",
       "       [ 59.739338],\n",
       "       [ 62.18789 ],\n",
       "       [ 64.15157 ],\n",
       "       [ 65.51576 ],\n",
       "       [ 66.82015 ],\n",
       "       [ 67.86196 ],\n",
       "       [ 68.687546],\n",
       "       [ 68.230606],\n",
       "       [ 68.183464],\n",
       "       [ 68.53554 ],\n",
       "       [ 68.861725],\n",
       "       [ 66.78728 ],\n",
       "       [ 63.597157],\n",
       "       [ 64.84016 ],\n",
       "       [ 69.43011 ],\n",
       "       [ 74.10948 ],\n",
       "       [ 76.18796 ],\n",
       "       [ 76.016975],\n",
       "       [ 75.34145 ],\n",
       "       [ 75.10615 ],\n",
       "       [ 77.0101  ],\n",
       "       [ 78.86426 ],\n",
       "       [ 81.370865],\n",
       "       [ 84.25969 ],\n",
       "       [ 84.42481 ],\n",
       "       [ 81.795944],\n",
       "       [ 79.84728 ],\n",
       "       [ 80.153015],\n",
       "       [ 80.34434 ],\n",
       "       [ 80.075745],\n",
       "       [ 80.14488 ],\n",
       "       [ 79.36161 ],\n",
       "       [ 80.09922 ],\n",
       "       [ 82.38092 ],\n",
       "       [ 84.53736 ],\n",
       "       [ 86.91547 ],\n",
       "       [ 87.7972  ],\n",
       "       [ 85.73096 ],\n",
       "       [ 83.116585],\n",
       "       [ 81.40278 ],\n",
       "       [ 79.99638 ],\n",
       "       [ 79.705246],\n",
       "       [ 78.86766 ],\n",
       "       [ 78.23027 ],\n",
       "       [ 78.533356],\n",
       "       [ 77.40194 ],\n",
       "       [ 76.49606 ],\n",
       "       [ 77.86598 ],\n",
       "       [ 80.07826 ],\n",
       "       [ 80.886406],\n",
       "       [ 80.72911 ],\n",
       "       [ 79.186104],\n",
       "       [ 76.87386 ],\n",
       "       [ 71.873215],\n",
       "       [ 68.23427 ],\n",
       "       [ 68.93059 ],\n",
       "       [ 70.97034 ],\n",
       "       [ 72.34596 ],\n",
       "       [ 75.45942 ],\n",
       "       [ 79.1885  ],\n",
       "       [ 82.06339 ],\n",
       "       [ 80.75507 ],\n",
       "       [ 78.76845 ],\n",
       "       [ 79.197685],\n",
       "       [ 81.42151 ],\n",
       "       [ 83.274574],\n",
       "       [ 84.16827 ],\n",
       "       [ 83.55126 ],\n",
       "       [ 82.88943 ],\n",
       "       [ 82.09837 ],\n",
       "       [ 81.690575],\n",
       "       [ 82.925766],\n",
       "       [ 85.602585],\n",
       "       [ 86.550476],\n",
       "       [ 86.97115 ],\n",
       "       [ 86.846146],\n",
       "       [ 86.459   ],\n",
       "       [ 90.17997 ],\n",
       "       [ 94.79473 ],\n",
       "       [100.82947 ],\n",
       "       [105.114716],\n",
       "       [105.67455 ],\n",
       "       [102.53089 ],\n",
       "       [101.41582 ],\n",
       "       [102.51365 ],\n",
       "       [105.42104 ],\n",
       "       [107.93388 ],\n",
       "       [108.724945],\n",
       "       [107.703865],\n",
       "       [107.121635],\n",
       "       [108.84594 ],\n",
       "       [112.87893 ],\n",
       "       [116.33599 ],\n",
       "       [118.304344],\n",
       "       [119.06739 ],\n",
       "       [118.11585 ],\n",
       "       [113.89249 ],\n",
       "       [106.731224],\n",
       "       [102.53957 ],\n",
       "       [103.5919  ],\n",
       "       [106.55026 ],\n",
       "       [108.90785 ],\n",
       "       [108.025345],\n",
       "       [107.576454],\n",
       "       [107.85572 ],\n",
       "       [110.5235  ],\n",
       "       [113.53738 ],\n",
       "       [115.92718 ],\n",
       "       [118.698395],\n",
       "       [117.39696 ],\n",
       "       [114.80631 ],\n",
       "       [112.810394],\n",
       "       [110.49883 ],\n",
       "       [104.84409 ],\n",
       "       [100.6022  ],\n",
       "       [ 99.83956 ],\n",
       "       [102.48121 ],\n",
       "       [106.666504],\n",
       "       [105.07774 ],\n",
       "       [ 98.096924],\n",
       "       [ 95.51768 ],\n",
       "       [ 96.16398 ],\n",
       "       [ 93.1127  ],\n",
       "       [ 94.6729  ],\n",
       "       [ 95.704285],\n",
       "       [ 93.14116 ],\n",
       "       [ 84.72163 ],\n",
       "       [ 83.46875 ],\n",
       "       [ 85.339806],\n",
       "       [ 87.05567 ],\n",
       "       [ 91.220375],\n",
       "       [ 96.255905],\n",
       "       [102.01411 ],\n",
       "       [106.57327 ],\n",
       "       [109.8961  ],\n",
       "       [112.621544],\n",
       "       [114.483154],\n",
       "       [115.813675],\n",
       "       [116.19847 ],\n",
       "       [113.73603 ],\n",
       "       [111.91967 ],\n",
       "       [110.631256],\n",
       "       [109.72842 ],\n",
       "       [108.71618 ],\n",
       "       [105.011284],\n",
       "       [102.38272 ],\n",
       "       [ 96.32879 ],\n",
       "       [ 90.28763 ],\n",
       "       [ 88.1314  ],\n",
       "       [ 87.03301 ],\n",
       "       [ 88.81701 ],\n",
       "       [ 92.16263 ],\n",
       "       [ 96.21032 ],\n",
       "       [102.96126 ],\n",
       "       [108.86213 ],\n",
       "       [109.74301 ],\n",
       "       [107.92359 ],\n",
       "       [104.68158 ],\n",
       "       [104.09577 ],\n",
       "       [103.698555],\n",
       "       [103.00928 ],\n",
       "       [102.752266],\n",
       "       [106.06936 ],\n",
       "       [109.41167 ]], dtype=float32)"
      ]
     },
     "execution_count": 20,
     "metadata": {},
     "output_type": "execute_result"
    }
   ],
   "source": [
    "test_predict"
   ]
  },
  {
   "cell_type": "code",
   "execution_count": 21,
   "id": "70e84645",
   "metadata": {},
   "outputs": [],
   "source": [
    "from sklearn.metrics import mean_squared_error\n",
    "import math"
   ]
  },
  {
   "cell_type": "code",
   "execution_count": 22,
   "id": "65b50ca6",
   "metadata": {},
   "outputs": [
    {
     "name": "stdout",
     "output_type": "stream",
     "text": [
      "15.253496122636577\n",
      "70.96771209886435\n"
     ]
    }
   ],
   "source": [
    "print(math.sqrt(mean_squared_error(y_train, train_predict)))\n",
    "print(math.sqrt(mean_squared_error(y_test, test_predict)))"
   ]
  },
  {
   "cell_type": "code",
   "execution_count": 23,
   "id": "4b4fb5b2",
   "metadata": {},
   "outputs": [
    {
     "data": {
      "image/png": "[encoded data removed]",
      "text/plain": [
       "<Figure size 640x480 with 1 Axes>"
      ]
     },
     "metadata": {},
     "output_type": "display_data"
    }
   ],
   "source": [
    "### Plotting \n",
    "# shift train predictions for plotting\n",
    "look_back=100\n",
    "trainPredictPlot = np.empty_like(df)\n",
    "trainPredictPlot[:, :] = np.nan\n",
    "trainPredictPlot[look_back:len(train_predict)+look_back, :] = train_predict\n",
    "# shift test predictions for plotting\n",
    "testPredictPlot = np.empty_like(df)\n",
    "testPredictPlot[:, :] = np.nan\n",
    "testPredictPlot[len(train_predict)+(look_back*2):len(df), :] = test_predict\n",
    "# plot baseline and predictions\n",
    "plt.plot(scaler.inverse_transform(df))\n",
    "plt.plot(trainPredictPlot)\n",
    "plt.plot(testPredictPlot)\n",
    "plt.show()"
   ]
  },
  {
   "cell_type": "code",
   "execution_count": 24,
   "id": "0679016a",
   "metadata": {
    "scrolled": true
   },
   "outputs": [
    {
     "data": {
      "text/plain": [
       "1345     89.011002\n",
       "1346     89.419998\n",
       "1347     88.231003\n",
       "1348     89.226997\n",
       "1349     88.528999\n",
       "           ...    \n",
       "1440    114.860001\n",
       "1441    115.379997\n",
       "1442    121.610001\n",
       "1443    121.800003\n",
       "1444    119.260002\n",
       "Name: Low, Length: 100, dtype: float64"
      ]
     },
     "execution_count": 24,
     "metadata": {},
     "output_type": "execute_result"
    }
   ],
   "source": [
    "last_day=dff.iloc[-100:,3]\n",
    "last_day"
   ]
  },
  {
   "cell_type": "code",
   "execution_count": 25,
   "id": "fdb44b42",
   "metadata": {},
   "outputs": [
    {
     "data": {
      "text/plain": [
       "array([[0.01765143],\n",
       "       [0.02690705],\n",
       "       [0.        ],\n",
       "       [0.02253943],\n",
       "       [0.00674368],\n",
       "       [0.01590883],\n",
       "       [0.07621799],\n",
       "       [0.13288363],\n",
       "       [0.08090243],\n",
       "       [0.11788002],\n",
       "       [0.11199615],\n",
       "       [0.11355763],\n",
       "       [0.30073084],\n",
       "       [0.33422342],\n",
       "       [0.48998626],\n",
       "       [0.51302362],\n",
       "       [0.48500761],\n",
       "       [0.42338595],\n",
       "       [0.53796189],\n",
       "       [0.58417249],\n",
       "       [0.66163531],\n",
       "       [0.68091607],\n",
       "       [0.67417238],\n",
       "       [0.65127073],\n",
       "       [0.69042065],\n",
       "       [0.77709386],\n",
       "       [0.88096596],\n",
       "       [0.90721693],\n",
       "       [0.93573069],\n",
       "       [0.96085008],\n",
       "       [0.93437294],\n",
       "       [0.81624395],\n",
       "       [0.67457967],\n",
       "       [0.70354613],\n",
       "       [0.77777273],\n",
       "       [0.78501435],\n",
       "       [0.78116728],\n",
       "       [0.69245745],\n",
       "       [0.74224353],\n",
       "       [0.7497115 ],\n",
       "       [0.84747339],\n",
       "       [0.87825029],\n",
       "       [0.91468454],\n",
       "       [1.        ],\n",
       "       [0.87847664],\n",
       "       [0.88232371],\n",
       "       [0.88141849],\n",
       "       [0.82258034],\n",
       "       [0.64470799],\n",
       "       [0.6410871 ],\n",
       "       [0.65941757],\n",
       "       [0.71576639],\n",
       "       [0.7664577 ],\n",
       "       [0.57048139],\n",
       "       [0.40890272],\n",
       "       [0.52838945],\n",
       "       [0.52205306],\n",
       "       [0.32381361],\n",
       "       [0.5125483 ],\n",
       "       [0.42044393],\n",
       "       [0.29733647],\n",
       "       [0.05564733],\n",
       "       [0.27877982],\n",
       "       [0.23668788],\n",
       "       [0.21021057],\n",
       "       [0.34395436],\n",
       "       [0.40799749],\n",
       "       [0.52838945],\n",
       "       [0.58473827],\n",
       "       [0.66168054],\n",
       "       [0.74563808],\n",
       "       [0.79632938],\n",
       "       [0.85222568],\n",
       "       [0.86965093],\n",
       "       [0.78908777],\n",
       "       [0.83706357],\n",
       "       [0.81782805],\n",
       "       [0.80673919],\n",
       "       [0.77867796],\n",
       "       [0.64448164],\n",
       "       [0.65602303],\n",
       "       [0.43130644],\n",
       "       [0.35956916],\n",
       "       [0.37405239],\n",
       "       [0.28783171],\n",
       "       [0.34983822],\n",
       "       [0.37835199],\n",
       "       [0.43424828],\n",
       "       [0.61438361],\n",
       "       [0.66462239],\n",
       "       [0.59130101],\n",
       "       [0.60193717],\n",
       "       [0.56550275],\n",
       "       [0.6567019 ],\n",
       "       [0.61460996],\n",
       "       [0.60261605],\n",
       "       [0.61438361],\n",
       "       [0.75536901],\n",
       "       [0.75966878],\n",
       "       [0.70218839]])"
      ]
     },
     "execution_count": 25,
     "metadata": {},
     "output_type": "execute_result"
    }
   ],
   "source": [
    "last_day=scaler.fit_transform(np.array(last_day).reshape(-1, 1))\n",
    "last_day"
   ]
  },
  {
   "cell_type": "code",
   "execution_count": 26,
   "id": "e2bd0e61",
   "metadata": {},
   "outputs": [
    {
     "name": "stdout",
     "output_type": "stream",
     "text": [
      "\u001b[1m1/1\u001b[0m \u001b[32m━━━━━━━━━━━━━━━━━━━━\u001b[0m\u001b[37m\u001b[0m \u001b[1m0s\u001b[0m 10ms/step\n"
     ]
    }
   ],
   "source": [
    "last_day=last_day.reshape(1,100,1)\n",
    "ans=model.predict(last_day)\n",
    "ans=scaler.inverse_transform(ans)"
   ]
  },
  {
   "cell_type": "code",
   "execution_count": 27,
   "id": "9479e778",
   "metadata": {},
   "outputs": [],
   "source": [
    "ans=ans[0][0]"
   ]
  },
  {
   "cell_type": "code",
   "execution_count": 28,
   "id": "d14907c6",
   "metadata": {},
   "outputs": [
    {
     "name": "stdout",
     "output_type": "stream",
     "text": [
      "The predicted price of next day out of the dataset will be \"119.77243041992188\".\n"
     ]
    }
   ],
   "source": [
    "print(f'The predicted price of next day out of the dataset will be \\\"{ans}\\\".')"
   ]
  }
 ],
 "metadata": {
  "kernelspec": {
   "display_name": "Python 3 (ipykernel)",
   "language": "python",
   "name": "python3"
  },
  "language_info": {
   "codemirror_mode": {
    "name": "ipython",
    "version": 3
   },
   "file_extension": ".py",
   "mimetype": "text/x-python",
   "name": "python",
   "nbconvert_exporter": "python",
   "pygments_lexer": "ipython3",
   "version": "3.11.8"
  }
 },
 "nbformat": 4,
 "nbformat_minor": 5
}
